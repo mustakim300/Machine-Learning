{
 "cells": [
  {
   "cell_type": "markdown",
   "id": "a4baf6c4",
   "metadata": {},
   "source": [
    "# K-Nearest Neighbor(KNN)"
   ]
  },
  {
   "cell_type": "raw",
   "id": "478af630",
   "metadata": {},
   "source": [
    "K-Nearest Neighbour is one of the simplest Machine Learning algorithms based on Supervised Learning technique.\n",
    "K-NN algorithm assumes the similarity between the new case/data and available cases and put the new case into \n",
    "the category that is most similar to the available categories."
   ]
  },
  {
   "cell_type": "code",
   "execution_count": 1,
   "id": "971b629c",
   "metadata": {},
   "outputs": [
    {
     "data": {
      "image/png": "[encoded data removed]",
      "text/plain": [
       "<IPython.core.display.Image object>"
      ]
     },
     "execution_count": 1,
     "metadata": {},
     "output_type": "execute_result"
    }
   ],
   "source": [
    "from IPython.display import Image\n",
    "image = Image('KNN.png')\n",
    "image"
   ]
  },
  {
   "cell_type": "code",
   "execution_count": 2,
   "id": "e8a2a122",
   "metadata": {},
   "outputs": [],
   "source": [
    "#importing library\n",
    "\n",
    "import numpy as np\n",
    "import pandas as pd\n",
    "import matplotlib.pyplot as plt"
   ]
  },
  {
   "cell_type": "code",
   "execution_count": 3,
   "id": "bd9160c0",
   "metadata": {},
   "outputs": [
    {
     "name": "stdout",
     "output_type": "stream",
     "text": [
      "   Age  EstimatedSalary  Purchased\n",
      "0   19            19000          0\n",
      "1   35            20000          0\n",
      "2   26            43000          0\n",
      "3   27            57000          0\n",
      "4   19            76000          0\n"
     ]
    }
   ],
   "source": [
    "#importing dataset\n",
    "\n",
    "d=pd.read_csv('Social_Network_Ads.csv')\n",
    "print(d.head())    #this will print first 5 rows of data-set"
   ]
  },
  {
   "cell_type": "code",
   "execution_count": 4,
   "id": "4466ceb5",
   "metadata": {},
   "outputs": [],
   "source": [
    "# Let's split the data set into dependent(y) and independetn(x) data set \n",
    "\n",
    "x=d.iloc[: , [0,1]].values\n",
    "y=d.iloc[: , [2]].values"
   ]
  },
  {
   "cell_type": "code",
   "execution_count": 5,
   "id": "8c47bdc4",
   "metadata": {},
   "outputs": [],
   "source": [
    "# Let' split the data into trainig and testing\n",
    "\n",
    "from sklearn.model_selection import train_test_split\n",
    "xtr,xts,ytr,yts = train_test_split(x,y,test_size=0.25,random_state=42)\n"
   ]
  },
  {
   "cell_type": "code",
   "execution_count": 6,
   "id": "b2448487",
   "metadata": {},
   "outputs": [],
   "source": [
    "#Let's do feature scaling\n",
    "\n",
    "from sklearn.preprocessing import StandardScaler\n",
    "sc=StandardScaler()\n",
    "xtr=sc.fit_transform(xtr)\n",
    "xts=sc.transform(xts)\n"
   ]
  },
  {
   "cell_type": "code",
   "execution_count": 7,
   "id": "a4cf2eba",
   "metadata": {},
   "outputs": [
    {
     "name": "stderr",
     "output_type": "stream",
     "text": [
      "C:\\Users\\Lenovo\\anaconda3\\lib\\site-packages\\sklearn\\neighbors\\_classification.py:179: DataConversionWarning: A column-vector y was passed when a 1d array was expected. Please change the shape of y to (n_samples,), for example using ravel().\n",
      "  return self._fit(X, y)\n"
     ]
    },
    {
     "data": {
      "text/plain": [
       "KNeighborsClassifier()"
      ]
     },
     "execution_count": 7,
     "metadata": {},
     "output_type": "execute_result"
    }
   ],
   "source": [
    "# import the model\n",
    "from sklearn.neighbors import KNeighborsClassifier\n",
    "classifier = KNeighborsClassifier(n_neighbors = 5, metric = 'minkowski', p = 2)\n",
    "classifier.fit(xtr,ytr)"
   ]
  },
  {
   "cell_type": "code",
   "execution_count": 8,
   "id": "67fb4125",
   "metadata": {},
   "outputs": [
    {
     "data": {
      "text/plain": [
       "array([1, 1, 0, 1, 0, 0, 1, 0, 0, 0, 0, 1, 0, 0, 0, 1, 1, 0, 0, 1, 0, 0,\n",
       "       1, 1, 0, 1, 0, 0, 1, 0, 1, 0, 1, 0, 1, 0, 0, 0, 0, 0, 1, 0, 0, 1,\n",
       "       0, 1, 0, 0, 1, 0, 0, 1, 0, 0, 0, 0, 1, 1, 0, 0, 0, 0, 1, 0, 0, 1,\n",
       "       1, 1, 0, 0, 1, 0, 0, 0, 1, 0, 1, 1, 0, 0, 0, 1, 1, 1, 1, 0, 0, 0,\n",
       "       0, 0, 1, 0, 0, 0, 0, 0, 1, 0, 1, 1], dtype=int64)"
      ]
     },
     "execution_count": 8,
     "metadata": {},
     "output_type": "execute_result"
    }
   ],
   "source": [
    "y_predict=classifier.predict(xts)\n",
    "y_predict"
   ]
  },
  {
   "cell_type": "code",
   "execution_count": 9,
   "id": "449df09c",
   "metadata": {
    "scrolled": true
   },
   "outputs": [
    {
     "name": "stdout",
     "output_type": "stream",
     "text": [
      "Confusion matix \n",
      "= [[59  4]\n",
      " [ 3 34]]\n",
      "\n",
      "Accurcy is = 0.93\n"
     ]
    }
   ],
   "source": [
    "#let's find the matrix and accuracy score\n",
    "\n",
    "from sklearn.metrics import confusion_matrix,accuracy_score\n",
    "cm=confusion_matrix(yts,y_predict)\n",
    "score=accuracy_score(yts,y_predict)\n",
    "print(f'Confusion matix \\n= {cm}\\n')\n",
    "print(f'Accurcy is = {score}')"
   ]
  },
  {
   "cell_type": "code",
   "execution_count": 10,
   "id": "c599ee31",
   "metadata": {},
   "outputs": [
    {
     "name": "stdout",
     "output_type": "stream",
     "text": [
      "[1]\n",
      "     Age  EstimatedSalary  Purchased\n",
      "0     19            19000          0\n",
      "1     35            20000          0\n",
      "2     26            43000          0\n",
      "3     27            57000          0\n",
      "4     19            76000          0\n",
      "..   ...              ...        ...\n",
      "395   46            41000          1\n",
      "396   51            23000          1\n",
      "397   50            20000          1\n",
      "398   36            33000          0\n",
      "399   49            36000          1\n",
      "\n",
      "[400 rows x 3 columns]\n"
     ]
    }
   ],
   "source": [
    "#let's check for a value Age=46 & EstimatedSalary=41000\n",
    "\n",
    "print(classifier.predict(sc.transform([[46,41000]])))\n",
    "\n",
    "#check the result value in the given data set which is given below\n",
    "print(d)"
   ]
  },
  {
   "cell_type": "code",
   "execution_count": null,
   "id": "f345b466",
   "metadata": {},
   "outputs": [],
   "source": []
  }
 ],
 "metadata": {
  "kernelspec": {
   "display_name": "Python 3",
   "language": "python",
   "name": "python3"
  },
  "language_info": {
   "codemirror_mode": {
    "name": "ipython",
    "version": 3
   },
   "file_extension": ".py",
   "mimetype": "text/x-python",
   "name": "python",
   "nbconvert_exporter": "python",
   "pygments_lexer": "ipython3",
   "version": "3.8.8"
  }
 },
 "nbformat": 4,
 "nbformat_minor": 5
}
